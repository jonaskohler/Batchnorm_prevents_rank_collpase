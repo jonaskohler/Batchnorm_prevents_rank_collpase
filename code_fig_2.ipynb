{
 "cells": [
  {
   "cell_type": "code",
   "execution_count": 1,
   "metadata": {},
   "outputs": [
    {
     "name": "stdout",
     "output_type": "stream",
     "text": [
      "Using matplotlib backend: MacOSX\n",
      "Populating the interactive namespace from numpy and matplotlib\n"
     ]
    }
   ],
   "source": [
    "%pylab\n",
    "%matplotlib inline\n",
    "import numpy as np\n",
    "import math\n",
    "import pandas as pd\n",
    "import seaborn as sns"
   ]
  },
  {
   "cell_type": "code",
   "execution_count": 2,
   "metadata": {},
   "outputs": [],
   "source": [
    "# activation functions \n",
    "def function_relu(H):\n",
    "    return np.tanh(H)\n",
    "    \n",
    "def function_linear(H):\n",
    "    return H\n"
   ]
  },
  {
   "cell_type": "code",
   "execution_count": 16,
   "metadata": {},
   "outputs": [],
   "source": [
    "def BN_recurrence(H,W,N,d): # recurrence of batchnorm\n",
    "    H_half = W @ H\n",
    "    mean_H = np.mean(H_half,axis=1)\n",
    "    mean_H = mean_H.reshape(d,1)\n",
    "    mean_H = mean_H.repeat(N,axis=1)\n",
    "    H_half = H_half-mean_H\n",
    "    M = H_half @ H_half.T/N \n",
    "    diag_M = np.diag(1./np.sqrt(np.diag(M))) \n",
    "    return F(diag_M @H_half)\n",
    "def compute_rank(H,epsilon = 0.5*pow(10,0)):\n",
    "    return np.linalg.matrix_rank(H)\n",
    "    #u,s,v = np.linalg.svd(H)\n",
    "    #return sum(s>epsilon)\n",
    "    \n",
    "def compute_singular_values(H):\n",
    "    s = np.linalg.svd(H,full_matrices=False, compute_uv=False)\n",
    "    return s"
   ]
  },
  {
   "cell_type": "code",
   "execution_count": 17,
   "metadata": {},
   "outputs": [],
   "source": [
    "def run_experiment(F):\n",
    "    d = 32\n",
    "    N = d \n",
    "    num_layer = 50000\n",
    "    layers = []\n",
    "    rank_H = []\n",
    "    rank_H_BN = []\n",
    "    run_id=[]\n",
    "    no_runs=1\n",
    "    for i in range(no_runs):\n",
    "        svs=[]\n",
    "        X = np.random.randn(d,N)\n",
    "        H = X # pre-activations of BN network\n",
    "        H_hat = X # pre-activations of Linear network\n",
    "        for l in range(num_layer): \n",
    "            W = 2*math.sqrt(3)*(np.random.rand(d,d)-.5)\n",
    "            #W =  np.random.randn(d,d)\n",
    "            H_hat = W @ F(H_hat)\n",
    "            H_hat = H_hat/np.linalg.norm(H_hat)\n",
    "            H = BN_recurrence(H,W,N,d)\n",
    "            if l % 1000 == 0: \n",
    "                layers.append(l)\n",
    "                rank_H_BN.append(compute_rank(H))\n",
    "                rank_H.append(compute_rank(H_hat)) \n",
    "                run_id.append(i)\n",
    "            if l % 10000 == 0:\n",
    "                svs.append(compute_singular_values(H))\n",
    "        print(i)\n",
    "            \n",
    "    run_dic={'id':run_id,'step':layers,'rank':rank_H}\n",
    "    run_dic_BN={'id':run_id,'step':layers,'rank':rank_H_BN}\n",
    "    run_pd=pd.DataFrame(run_dic)\n",
    "    run_pd_BN=pd.DataFrame(run_dic_BN)\n",
    "\n",
    "    return run_pd, run_pd_BN, svs"
   ]
  },
  {
   "cell_type": "code",
   "execution_count": 18,
   "metadata": {},
   "outputs": [
    {
     "name": "stdout",
     "output_type": "stream",
     "text": [
      "0\n"
     ]
    }
   ],
   "source": [
    "#F = function_relu\n",
    "F = function_linear \n",
    "run_pd,run_pd_BN,svs=run_experiment(F)\n"
   ]
  },
  {
   "cell_type": "code",
   "execution_count": 19,
   "metadata": {},
   "outputs": [
    {
     "data": {
      "image/png": "[encoded data removed]",
      "text/plain": [
       "<Figure size 432x288 with 1 Axes>"
      ]
     },
     "metadata": {
      "needs_background": "light"
     },
     "output_type": "display_data"
    }
   ],
   "source": [
    "fig=plt.figure()\n",
    "sns.lineplot(x='step',y='rank',data=run_pd,label='w/o BN',color=sns.color_palette()[1])\n",
    "ax=sns.lineplot(x='step',y='rank',data=run_pd_BN,label='w/ BN',color=sns.color_palette()[0])\n",
    "plt.xlabel(\"Depth (L)\",fontsize=13)\n",
    "plt.ylabel(\"Rank\",fontsize=13)\n",
    "\n",
    "ax.xaxis.set_tick_params(labelsize=12)\n",
    "ax.yaxis.set_tick_params(labelsize=12)\n",
    "\n",
    "\n",
    "plt.legend(fontsize=13)\n",
    "if F==function_linear:\n",
    "    plt.title('Linear net',fontsize=14)\n",
    "    #fig.savefig('fig_2_linear.pdf', bbox_inches='tight')\n",
    "else:\n",
    "    plt.title('Relu net',fontsize=14)\n",
    "    #fig.savefig('fig_2_relu.pdf', bbox_inches='tight')\n",
    "\n",
    "\n"
   ]
  },
  {
   "cell_type": "code",
   "execution_count": null,
   "metadata": {},
   "outputs": [],
   "source": []
  }
 ],
 "metadata": {
  "kernelspec": {
   "display_name": "Python 3",
   "language": "python",
   "name": "python3"
  },
  "language_info": {
   "codemirror_mode": {
    "name": "ipython",
    "version": 3
   },
   "file_extension": ".py",
   "mimetype": "text/x-python",
   "name": "python",
   "nbconvert_exporter": "python",
   "pygments_lexer": "ipython3",
   "version": "3.7.6"
  }
 },
 "nbformat": 4,
 "nbformat_minor": 2
}
