{
 "cells": [
  {
   "cell_type": "code",
   "execution_count": null,
   "metadata": {},
   "outputs": [],
   "source": [
    "%pylab\n",
    "%matplotlib inline\n",
    "import numpy as np\n",
    "import seaborn as sns"
   ]
  },
  {
   "cell_type": "markdown",
   "metadata": {},
   "source": [
    "Figure 3a: Linear net"
   ]
  },
  {
   "cell_type": "code",
   "execution_count": null,
   "metadata": {},
   "outputs": [],
   "source": [
    "rank_collector_mean_1=[]\n",
    "lower_bound_collector_mean_1=[]\n",
    "rank_collector_std_1=[]\n",
    "lower_bound_collector_std_1=[]\n",
    "sqrt_d_collector_1=[]\n",
    "\n",
    "for d in (8,16,32,64,128,256):\n",
    "    gamma=0.01\n",
    "    L=1000000\n",
    "    ranks_1=[]\n",
    "    lower_bounds_1=[]\n",
    "    M = np.eye(d)\n",
    "    I = np.eye(d)\n",
    "    setoff=1000\n",
    "    i=0 # chose a row\n",
    "\n",
    "    for k in range(L):\n",
    "        W=np.random.randn(d,d)\n",
    "        Wh =  I + gamma*W\n",
    "        Mh = Wh @ M @ Wh.T\n",
    "        DM = np.diag(1./np.sqrt(np.diag(Mh)))\n",
    "        M = DM @ Mh @ DM \n",
    "\n",
    "        if k>=setoff and k%10000==0:\n",
    "            ranks_1.append(np.linalg.matrix_rank(M))   \n",
    "            u,s,v = np.linalg.svd(M)\n",
    "            ranks_1.append(sum(s>pow(10,-9)))\n",
    "            lower_bounds_1.append(np.trace(M)**2/np.linalg.norm(M,'f')**2)\n",
    "\n",
    "\n",
    "    sqrt_d_collector_1.append(np.sqrt(d))\n",
    "    rank_collector_mean_1.append(np.mean(ranks_1))\n",
    "    rank_collector_std_1.append(np.std(ranks_1))\n",
    "    lower_bound_collector_mean_1.append(np.mean(lower_bounds_1))\n",
    "    lower_bound_collector_std_1.append(np.std(lower_bounds_1))"
   ]
  },
  {
   "cell_type": "markdown",
   "metadata": {},
   "source": [
    "plotting"
   ]
  },
  {
   "cell_type": "code",
   "execution_count": null,
   "metadata": {},
   "outputs": [],
   "source": [
    "fig=plt.figure()   \n",
    "\n",
    "sns.lineplot(x=sqrt_d_collector_1,y=rank_collector_mean_1,label='$\\gamma=0.01$',marker='o')\n",
    "\n",
    "ll = [rank_collector_mean_1[i] - rank_collector_std_1[i] for i in range(len(lower_bound_collector_mean_1))]\n",
    "uu = [rank_collector_mean_1[i] + rank_collector_std_1[i] for i in range(len(lower_bound_collector_mean_1))]\n",
    "plt.fill_between(sqrt_d_collector_1, ll, uu, alpha=.2)\n",
    "\n",
    "ax=sns.lineplot(x=sqrt_d_collector_1,y=sqrt_d_collector_1,label='$\\sqrt{d}$')\n",
    "ax.lines[-2].set_linestyle('--')\n",
    "\n",
    "ax.lines[-1].set_linestyle('--')\n",
    "ax.lines[-1].set_color('grey')\n",
    "\n",
    "leg = plt.legend(fontsize=14)\n",
    "LH = leg.legendHandles\n",
    "LH[-1].set_color('grey') \n",
    "\n",
    "\n",
    "plt.xscale('log')\n",
    "plt.yscale('log')\n",
    "\n",
    "plt.xlabel('Nummer of hidden units per layer (d)')\n",
    "plt.ylabel('Rank')\n"
   ]
  }
 ],
 "metadata": {
  "kernelspec": {
   "display_name": "Python 3",
   "language": "python",
   "name": "python3"
  },
  "language_info": {
   "codemirror_mode": {
    "name": "ipython",
    "version": 3
   },
   "file_extension": ".py",
   "mimetype": "text/x-python",
   "name": "python",
   "nbconvert_exporter": "python",
   "pygments_lexer": "ipython3",
   "version": "3.7.6"
  }
 },
 "nbformat": 4,
 "nbformat_minor": 2
}
